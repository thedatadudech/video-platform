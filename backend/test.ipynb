{
 "cells": [
  {
   "cell_type": "code",
   "execution_count": 10,
   "metadata": {},
   "outputs": [
    {
     "name": "stderr",
     "output_type": "stream",
     "text": [
      "/var/folders/q0/syww6cyx7h90jjrq03z64drm0000gp/T/ipykernel_34466/2711438816.py:19: DeprecationWarning: textsize is deprecated and will be removed in Pillow 10 (2023-07-01). Use textbbox or textlength instead.\n",
      "  text_size = draw.textsize(text, font=font)\n",
      "/var/folders/q0/syww6cyx7h90jjrq03z64drm0000gp/T/ipykernel_34466/2711438816.py:19: DeprecationWarning: textsize is deprecated and will be removed in Pillow 10 (2023-07-01). Use textbbox or textlength instead.\n",
      "  text_size = draw.textsize(text, font=font)\n"
     ]
    },
    {
     "name": "stdout",
     "output_type": "stream",
     "text": [
      "Moviepy - Building video output_video_with_subtitles.mp4.\n",
      "Moviepy - Writing video output_video_with_subtitles.mp4\n",
      "\n"
     ]
    },
    {
     "name": "stderr",
     "output_type": "stream",
     "text": [
      "t:  77%|███████▋  | 20/26 [00:00<00:00, 93.30it/s, now=None]/Users/abdullahmarkus/VSProjects/ai_hackathon/swarmzero_ai/youtube_swarm_fast/.venv/lib/python3.11/site-packages/moviepy/video/io/ffmpeg_reader.py:123: UserWarning: Warning: in file https://obj-store.livepeer.cloud/livepeer-cloud-ai-images/7daa3967/f70c6ae4.mp4, 1769472 bytes wanted but 0 bytes read,at frame 25/26, at time 4.17/4.17 sec. Using the last valid frame instead.\n",
      "  warnings.warn(\"Warning: in file %s, \"%(self.filename)+\n",
      "                                                            \r"
     ]
    },
    {
     "name": "stdout",
     "output_type": "stream",
     "text": [
      "Moviepy - Done !\n",
      "Moviepy - video ready output_video_with_subtitles.mp4\n"
     ]
    }
   ],
   "source": [
    "from moviepy.editor import VideoFileClip, CompositeVideoClip, ImageClip\n",
    "from PIL import Image, ImageDraw, ImageFont\n",
    "import numpy as np\n",
    "\n",
    "# Load your video file\n",
    "video = VideoFileClip(\"https://obj-store.livepeer.cloud/livepeer-cloud-ai-images/7daa3967/f70c6ae4.mp4\")\n",
    "\n",
    "# Define the text you want to overlay (subtitles)\n",
    "spoken_text = [\n",
    "    (\"Welcome to Switzerland\", 0, 2),  # (text, start_time, end_time)\n",
    "    (\"Watch the beautiful Matterhorn\", 2, 4),\n",
    "]\n",
    "\n",
    "# Function to create an image with text\n",
    "def create_text_image(text, size, font_size=24):\n",
    "    img = Image.new('RGB', size, color=(0, 0, 0))\n",
    "    draw = ImageDraw.Draw(img)\n",
    "    font = ImageFont.load_default() # Ensure you have this font or change to a path of a valid font\n",
    "    text_size = draw.textsize(text, font=font)\n",
    "    text_position = ((size[0] - text_size[0]) // 2, (size[1] - text_size[1]) // 2)\n",
    "    draw.text(text_position, text, font=font, fill=(255, 255, 255))\n",
    "    return np.array(img)\n",
    "\n",
    "# Create text clips for each subtitle\n",
    "subtitles = [\n",
    "    ImageClip(create_text_image(txt, (video.size[0], 50)))\n",
    "        .set_position(('center', 'bottom'))\n",
    "        .set_start(start)\n",
    "        .set_duration(end - start)\n",
    "    for txt, start, end in spoken_text\n",
    "]\n",
    "\n",
    "# Overlay the subtitles on the video\n",
    "final_video = CompositeVideoClip([video, *subtitles])\n",
    "\n",
    "# Save the final video\n",
    "final_video.write_videofile(\"output_video_with_subtitles.mp4\", codec=\"libx264\")"
   ]
  },
  {
   "cell_type": "code",
   "execution_count": 1,
   "metadata": {},
   "outputs": [],
   "source": [
    "clips = [\n",
    "\"https://obj-store.livepeer.cloud/livepeer-cloud-ai-images/7daa3967/f70c6ae4.mp4\",\n",
    "\"https://obj-store.livepeer.cloud/livepeer-cloud-ai-images/36442015/65f0e511.mp4\",\n",
    "\"https://obj-store.livepeer.cloud/livepeer-cloud-ai-images/8946156c/150e7558.mp4\"\n",
    "]"
   ]
  },
  {
   "cell_type": "code",
   "execution_count": 2,
   "metadata": {},
   "outputs": [
    {
     "name": "stderr",
     "output_type": "stream",
     "text": [
      "INFO:hive_agent.filestore.filestore:Initialized FileStore with base directory: hive-agent-data/files/user\n",
      "/Users/abdullahmarkus/VSProjects/ai_hackathon/swarmzero_ai/youtube_swarm_fast/.venv/lib/python3.11/site-packages/pinecone/data/index.py:1: TqdmWarning: IProgress not found. Please update jupyter and ipywidgets. See https://ipywidgets.readthedocs.io/en/stable/user_install.html\n",
      "  from tqdm.autonotebook import tqdm\n",
      "WARNING:root:'web3' extras not installed. Web3-related functionality will not be available.\n"
     ]
    },
    {
     "name": "stdout",
     "output_type": "stream",
     "text": [
      "'web3' extras not installed. Web3-related functionality will not be available.\n"
     ]
    },
    {
     "name": "stderr",
     "output_type": "stream",
     "text": [
      "WARNING:root:'web3' extras not installed. Web3-related functionality will not be available.\n"
     ]
    },
    {
     "name": "stdout",
     "output_type": "stream",
     "text": [
      "'web3' extras not installed. Web3-related functionality will not be available.\n",
      "'web3' extras not installed. Web3-related functionality will not be available.\n"
     ]
    },
    {
     "name": "stderr",
     "output_type": "stream",
     "text": [
      "WARNING:root:'web3' extras not installed. Web3-related functionality will not be available.\n"
     ]
    },
    {
     "name": "stdout",
     "output_type": "stream",
     "text": [
      "'web3' extras not installed. Web3-related functionality will not be available.\n",
      "'web3' extras not installed. Web3-related functionality will not be available.\n",
      "'web3' extras not installed. Web3-related functionality will not be available.\n"
     ]
    },
    {
     "name": "stderr",
     "output_type": "stream",
     "text": [
      "WARNING:py.warnings:/Users/abdullahmarkus/VSProjects/ai_hackathon/swarmzero_ai/youtube_swarm_fast/.venv/lib/python3.11/site-packages/pydantic/_internal/_fields.py:132: UserWarning: Field \"model_id\" in text_to_image has conflict with protected namespace \"model_\".\n",
      "\n",
      "You may be able to resolve this warning by setting `model_config['protected_namespaces'] = ()`.\n",
      "  warnings.warn(\n",
      "\n"
     ]
    },
    {
     "name": "stdout",
     "output_type": "stream",
     "text": [
      "/Users/abdullahmarkus/VSProjects/ai_hackathon/swarmzero_ai/youtube_swarm_fast/.venv/lib/python3.11/site-packages/pydantic/_internal/_fields.py:132: UserWarning: Field \"model_id\" in text_to_image has conflict with protected namespace \"model_\".\n",
      "\n",
      "You may be able to resolve this warning by setting `model_config['protected_namespaces'] = ()`.\n",
      "  warnings.warn(\n",
      "\n",
      "/Users/abdullahmarkus/VSProjects/ai_hackathon/swarmzero_ai/youtube_swarm_fast/.venv/lib/python3.11/site-packages/pydantic/_internal/_fields.py:132: UserWarning: Field \"model_id\" in text_to_image has conflict with protected namespace \"model_\".\n",
      "\n",
      "You may be able to resolve this warning by setting `model_config['protected_namespaces'] = ()`.\n",
      "  warnings.warn(\n",
      "\n",
      "/Users/abdullahmarkus/VSProjects/ai_hackathon/swarmzero_ai/youtube_swarm_fast/.venv/lib/python3.11/site-packages/pydantic/_internal/_fields.py:132: UserWarning: Field \"model_id\" in text_to_image has conflict with protected namespace \"model_\".\n",
      "\n",
      "You may be able to resolve this warning by setting `model_config['protected_namespaces'] = ()`.\n",
      "  warnings.warn(\n",
      "\n",
      "/Users/abdullahmarkus/VSProjects/ai_hackathon/swarmzero_ai/youtube_swarm_fast/.venv/lib/python3.11/site-packages/pydantic/_internal/_fields.py:132: UserWarning: Field \"model_id\" in text_to_image has conflict with protected namespace \"model_\".\n",
      "\n",
      "You may be able to resolve this warning by setting `model_config['protected_namespaces'] = ()`.\n",
      "  warnings.warn(\n",
      "\n"
     ]
    },
    {
     "name": "stderr",
     "output_type": "stream",
     "text": [
      "WARNING:root:'web3' extras not installed. Web3-related functionality will not be available.\n"
     ]
    },
    {
     "name": "stdout",
     "output_type": "stream",
     "text": [
      "'web3' extras not installed. Web3-related functionality will not be available.\n",
      "'web3' extras not installed. Web3-related functionality will not be available.\n",
      "'web3' extras not installed. Web3-related functionality will not be available.\n",
      "'web3' extras not installed. Web3-related functionality will not be available.\n"
     ]
    },
    {
     "name": "stderr",
     "output_type": "stream",
     "text": [
      "WARNING:py.warnings:/Users/abdullahmarkus/VSProjects/ai_hackathon/swarmzero_ai/youtube_swarm_fast/.venv/lib/python3.11/site-packages/pydantic/_internal/_fields.py:132: UserWarning: Field \"model_id\" in image_to_video has conflict with protected namespace \"model_\".\n",
      "\n",
      "You may be able to resolve this warning by setting `model_config['protected_namespaces'] = ()`.\n",
      "  warnings.warn(\n",
      "\n"
     ]
    },
    {
     "name": "stdout",
     "output_type": "stream",
     "text": [
      "/Users/abdullahmarkus/VSProjects/ai_hackathon/swarmzero_ai/youtube_swarm_fast/.venv/lib/python3.11/site-packages/pydantic/_internal/_fields.py:132: UserWarning: Field \"model_id\" in image_to_video has conflict with protected namespace \"model_\".\n",
      "\n",
      "You may be able to resolve this warning by setting `model_config['protected_namespaces'] = ()`.\n",
      "  warnings.warn(\n",
      "\n",
      "/Users/abdullahmarkus/VSProjects/ai_hackathon/swarmzero_ai/youtube_swarm_fast/.venv/lib/python3.11/site-packages/pydantic/_internal/_fields.py:132: UserWarning: Field \"model_id\" in image_to_video has conflict with protected namespace \"model_\".\n",
      "\n",
      "You may be able to resolve this warning by setting `model_config['protected_namespaces'] = ()`.\n",
      "  warnings.warn(\n",
      "\n",
      "/Users/abdullahmarkus/VSProjects/ai_hackathon/swarmzero_ai/youtube_swarm_fast/.venv/lib/python3.11/site-packages/pydantic/_internal/_fields.py:132: UserWarning: Field \"model_id\" in image_to_video has conflict with protected namespace \"model_\".\n",
      "\n",
      "You may be able to resolve this warning by setting `model_config['protected_namespaces'] = ()`.\n",
      "  warnings.warn(\n",
      "\n",
      "/Users/abdullahmarkus/VSProjects/ai_hackathon/swarmzero_ai/youtube_swarm_fast/.venv/lib/python3.11/site-packages/pydantic/_internal/_fields.py:132: UserWarning: Field \"model_id\" in image_to_video has conflict with protected namespace \"model_\".\n",
      "\n",
      "You may be able to resolve this warning by setting `model_config['protected_namespaces'] = ()`.\n",
      "  warnings.warn(\n",
      "\n",
      "/Users/abdullahmarkus/VSProjects/ai_hackathon/swarmzero_ai/youtube_swarm_fast/.venv/lib/python3.11/site-packages/pydantic/_internal/_fields.py:132: UserWarning: Field \"model_id\" in image_to_video has conflict with protected namespace \"model_\".\n",
      "\n",
      "You may be able to resolve this warning by setting `model_config['protected_namespaces'] = ()`.\n",
      "  warnings.warn(\n",
      "\n"
     ]
    },
    {
     "name": "stderr",
     "output_type": "stream",
     "text": [
      "WARNING:root:'web3' extras not installed. Web3-related functionality will not be available.\n"
     ]
    },
    {
     "name": "stdout",
     "output_type": "stream",
     "text": [
      "'web3' extras not installed. Web3-related functionality will not be available.\n",
      "'web3' extras not installed. Web3-related functionality will not be available.\n",
      "'web3' extras not installed. Web3-related functionality will not be available.\n",
      "'web3' extras not installed. Web3-related functionality will not be available.\n",
      "'web3' extras not installed. Web3-related functionality will not be available.\n"
     ]
    },
    {
     "name": "stderr",
     "output_type": "stream",
     "text": [
      "WARNING:root:'web3' extras not installed. Web3-related functionality will not be available.\n"
     ]
    },
    {
     "name": "stdout",
     "output_type": "stream",
     "text": [
      "'web3' extras not installed. Web3-related functionality will not be available.\n",
      "'web3' extras not installed. Web3-related functionality will not be available.\n",
      "'web3' extras not installed. Web3-related functionality will not be available.\n",
      "'web3' extras not installed. Web3-related functionality will not be available.\n",
      "'web3' extras not installed. Web3-related functionality will not be available.\n",
      "'web3' extras not installed. Web3-related functionality will not be available.\n"
     ]
    },
    {
     "name": "stderr",
     "output_type": "stream",
     "text": [
      "WARNING:llama_index.core.agent.react.formatter:ReActChatFormatter.from_context is deprecated, please use `from_defaults` instead.\n"
     ]
    },
    {
     "name": "stdout",
     "output_type": "stream",
     "text": [
      "ReActChatFormatter.from_context is deprecated, please use `from_defaults` instead.\n",
      "ReActChatFormatter.from_context is deprecated, please use `from_defaults` instead.\n",
      "ReActChatFormatter.from_context is deprecated, please use `from_defaults` instead.\n",
      "ReActChatFormatter.from_context is deprecated, please use `from_defaults` instead.\n",
      "ReActChatFormatter.from_context is deprecated, please use `from_defaults` instead.\n",
      "ReActChatFormatter.from_context is deprecated, please use `from_defaults` instead.\n"
     ]
    }
   ],
   "source": [
    "from hive_swarm.tools.video_editor import video_editor"
   ]
  },
  {
   "cell_type": "code",
   "execution_count": 3,
   "metadata": {},
   "outputs": [
    {
     "name": "stdout",
     "output_type": "stream",
     "text": [
      "Moviepy - Building video switzerland.mp4.\n",
      "Moviepy - Writing video switzerland.mp4\n",
      "\n"
     ]
    },
    {
     "name": "stderr",
     "output_type": "stream",
     "text": [
      "t:  33%|███▎      | 156/466 [00:25<00:42,  7.25it/s, now=None]WARNING:py.warnings:/Users/abdullahmarkus/VSProjects/ai_hackathon/swarmzero_ai/youtube_swarm_fast/.venv/lib/python3.11/site-packages/moviepy/video/io/ffmpeg_reader.py:123: UserWarning: Warning: in file https://obj-store.livepeer.cloud/livepeer-cloud-ai-images/7daa3967/f70c6ae4.mp4, 1769472 bytes wanted but 0 bytes read,at frame 25/26, at time 4.17/4.17 sec. Using the last valid frame instead.\n",
      "  warnings.warn(\"Warning: in file %s, \"%(self.filename)+\n",
      "\n"
     ]
    },
    {
     "name": "stdout",
     "output_type": "stream",
     "text": [
      "/Users/abdullahmarkus/VSProjects/ai_hackathon/swarmzero_ai/youtube_swarm_fast/.venv/lib/python3.11/site-packages/moviepy/video/io/ffmpeg_reader.py:123: UserWarning: Warning: in file https://obj-store.livepeer.cloud/livepeer-cloud-ai-images/7daa3967/f70c6ae4.mp4, 1769472 bytes wanted but 0 bytes read,at frame 25/26, at time 4.17/4.17 sec. Using the last valid frame instead.\n",
      "  warnings.warn(\"Warning: in file %s, \"%(self.filename)+\n",
      "\n",
      "/Users/abdullahmarkus/VSProjects/ai_hackathon/swarmzero_ai/youtube_swarm_fast/.venv/lib/python3.11/site-packages/moviepy/video/io/ffmpeg_reader.py:123: UserWarning: Warning: in file https://obj-store.livepeer.cloud/livepeer-cloud-ai-images/7daa3967/f70c6ae4.mp4, 1769472 bytes wanted but 0 bytes read,at frame 25/26, at time 4.17/4.17 sec. Using the last valid frame instead.\n",
      "  warnings.warn(\"Warning: in file %s, \"%(self.filename)+\n",
      "\n",
      "/Users/abdullahmarkus/VSProjects/ai_hackathon/swarmzero_ai/youtube_swarm_fast/.venv/lib/python3.11/site-packages/moviepy/video/io/ffmpeg_reader.py:123: UserWarning: Warning: in file https://obj-store.livepeer.cloud/livepeer-cloud-ai-images/7daa3967/f70c6ae4.mp4, 1769472 bytes wanted but 0 bytes read,at frame 25/26, at time 4.17/4.17 sec. Using the last valid frame instead.\n",
      "  warnings.warn(\"Warning: in file %s, \"%(self.filename)+\n",
      "\n",
      "/Users/abdullahmarkus/VSProjects/ai_hackathon/swarmzero_ai/youtube_swarm_fast/.venv/lib/python3.11/site-packages/moviepy/video/io/ffmpeg_reader.py:123: UserWarning: Warning: in file https://obj-store.livepeer.cloud/livepeer-cloud-ai-images/7daa3967/f70c6ae4.mp4, 1769472 bytes wanted but 0 bytes read,at frame 25/26, at time 4.17/4.17 sec. Using the last valid frame instead.\n",
      "  warnings.warn(\"Warning: in file %s, \"%(self.filename)+\n",
      "\n",
      "/Users/abdullahmarkus/VSProjects/ai_hackathon/swarmzero_ai/youtube_swarm_fast/.venv/lib/python3.11/site-packages/moviepy/video/io/ffmpeg_reader.py:123: UserWarning: Warning: in file https://obj-store.livepeer.cloud/livepeer-cloud-ai-images/7daa3967/f70c6ae4.mp4, 1769472 bytes wanted but 0 bytes read,at frame 25/26, at time 4.17/4.17 sec. Using the last valid frame instead.\n",
      "  warnings.warn(\"Warning: in file %s, \"%(self.filename)+\n",
      "\n",
      "/Users/abdullahmarkus/VSProjects/ai_hackathon/swarmzero_ai/youtube_swarm_fast/.venv/lib/python3.11/site-packages/moviepy/video/io/ffmpeg_reader.py:123: UserWarning: Warning: in file https://obj-store.livepeer.cloud/livepeer-cloud-ai-images/7daa3967/f70c6ae4.mp4, 1769472 bytes wanted but 0 bytes read,at frame 25/26, at time 4.17/4.17 sec. Using the last valid frame instead.\n",
      "  warnings.warn(\"Warning: in file %s, \"%(self.filename)+\n",
      "\n"
     ]
    },
    {
     "name": "stderr",
     "output_type": "stream",
     "text": [
      "t:  66%|██████▌   | 307/466 [00:50<00:21,  7.32it/s, now=None]WARNING:py.warnings:/Users/abdullahmarkus/VSProjects/ai_hackathon/swarmzero_ai/youtube_swarm_fast/.venv/lib/python3.11/site-packages/moviepy/video/io/ffmpeg_reader.py:123: UserWarning: Warning: in file https://obj-store.livepeer.cloud/livepeer-cloud-ai-images/36442015/65f0e511.mp4, 1769472 bytes wanted but 0 bytes read,at frame 24/26, at time 4.00/4.17 sec. Using the last valid frame instead.\n",
      "  warnings.warn(\"Warning: in file %s, \"%(self.filename)+\n",
      "\n"
     ]
    },
    {
     "name": "stdout",
     "output_type": "stream",
     "text": [
      "/Users/abdullahmarkus/VSProjects/ai_hackathon/swarmzero_ai/youtube_swarm_fast/.venv/lib/python3.11/site-packages/moviepy/video/io/ffmpeg_reader.py:123: UserWarning: Warning: in file https://obj-store.livepeer.cloud/livepeer-cloud-ai-images/36442015/65f0e511.mp4, 1769472 bytes wanted but 0 bytes read,at frame 24/26, at time 4.00/4.17 sec. Using the last valid frame instead.\n",
      "  warnings.warn(\"Warning: in file %s, \"%(self.filename)+\n",
      "\n",
      "/Users/abdullahmarkus/VSProjects/ai_hackathon/swarmzero_ai/youtube_swarm_fast/.venv/lib/python3.11/site-packages/moviepy/video/io/ffmpeg_reader.py:123: UserWarning: Warning: in file https://obj-store.livepeer.cloud/livepeer-cloud-ai-images/36442015/65f0e511.mp4, 1769472 bytes wanted but 0 bytes read,at frame 24/26, at time 4.00/4.17 sec. Using the last valid frame instead.\n",
      "  warnings.warn(\"Warning: in file %s, \"%(self.filename)+\n",
      "\n",
      "/Users/abdullahmarkus/VSProjects/ai_hackathon/swarmzero_ai/youtube_swarm_fast/.venv/lib/python3.11/site-packages/moviepy/video/io/ffmpeg_reader.py:123: UserWarning: Warning: in file https://obj-store.livepeer.cloud/livepeer-cloud-ai-images/36442015/65f0e511.mp4, 1769472 bytes wanted but 0 bytes read,at frame 24/26, at time 4.00/4.17 sec. Using the last valid frame instead.\n",
      "  warnings.warn(\"Warning: in file %s, \"%(self.filename)+\n",
      "\n",
      "/Users/abdullahmarkus/VSProjects/ai_hackathon/swarmzero_ai/youtube_swarm_fast/.venv/lib/python3.11/site-packages/moviepy/video/io/ffmpeg_reader.py:123: UserWarning: Warning: in file https://obj-store.livepeer.cloud/livepeer-cloud-ai-images/36442015/65f0e511.mp4, 1769472 bytes wanted but 0 bytes read,at frame 24/26, at time 4.00/4.17 sec. Using the last valid frame instead.\n",
      "  warnings.warn(\"Warning: in file %s, \"%(self.filename)+\n",
      "\n",
      "/Users/abdullahmarkus/VSProjects/ai_hackathon/swarmzero_ai/youtube_swarm_fast/.venv/lib/python3.11/site-packages/moviepy/video/io/ffmpeg_reader.py:123: UserWarning: Warning: in file https://obj-store.livepeer.cloud/livepeer-cloud-ai-images/36442015/65f0e511.mp4, 1769472 bytes wanted but 0 bytes read,at frame 24/26, at time 4.00/4.17 sec. Using the last valid frame instead.\n",
      "  warnings.warn(\"Warning: in file %s, \"%(self.filename)+\n",
      "\n",
      "/Users/abdullahmarkus/VSProjects/ai_hackathon/swarmzero_ai/youtube_swarm_fast/.venv/lib/python3.11/site-packages/moviepy/video/io/ffmpeg_reader.py:123: UserWarning: Warning: in file https://obj-store.livepeer.cloud/livepeer-cloud-ai-images/36442015/65f0e511.mp4, 1769472 bytes wanted but 0 bytes read,at frame 24/26, at time 4.00/4.17 sec. Using the last valid frame instead.\n",
      "  warnings.warn(\"Warning: in file %s, \"%(self.filename)+\n",
      "\n"
     ]
    },
    {
     "name": "stderr",
     "output_type": "stream",
     "text": [
      "t:  99%|█████████▉| 462/466 [01:17<00:00,  6.72it/s, now=None]WARNING:py.warnings:/Users/abdullahmarkus/VSProjects/ai_hackathon/swarmzero_ai/youtube_swarm_fast/.venv/lib/python3.11/site-packages/moviepy/video/io/ffmpeg_reader.py:123: UserWarning: Warning: in file https://obj-store.livepeer.cloud/livepeer-cloud-ai-images/8946156c/150e7558.mp4, 1769472 bytes wanted but 0 bytes read,at frame 24/26, at time 4.00/4.17 sec. Using the last valid frame instead.\n",
      "  warnings.warn(\"Warning: in file %s, \"%(self.filename)+\n",
      "\n"
     ]
    },
    {
     "name": "stdout",
     "output_type": "stream",
     "text": [
      "/Users/abdullahmarkus/VSProjects/ai_hackathon/swarmzero_ai/youtube_swarm_fast/.venv/lib/python3.11/site-packages/moviepy/video/io/ffmpeg_reader.py:123: UserWarning: Warning: in file https://obj-store.livepeer.cloud/livepeer-cloud-ai-images/8946156c/150e7558.mp4, 1769472 bytes wanted but 0 bytes read,at frame 24/26, at time 4.00/4.17 sec. Using the last valid frame instead.\n",
      "  warnings.warn(\"Warning: in file %s, \"%(self.filename)+\n",
      "\n",
      "/Users/abdullahmarkus/VSProjects/ai_hackathon/swarmzero_ai/youtube_swarm_fast/.venv/lib/python3.11/site-packages/moviepy/video/io/ffmpeg_reader.py:123: UserWarning: Warning: in file https://obj-store.livepeer.cloud/livepeer-cloud-ai-images/8946156c/150e7558.mp4, 1769472 bytes wanted but 0 bytes read,at frame 24/26, at time 4.00/4.17 sec. Using the last valid frame instead.\n",
      "  warnings.warn(\"Warning: in file %s, \"%(self.filename)+\n",
      "\n",
      "/Users/abdullahmarkus/VSProjects/ai_hackathon/swarmzero_ai/youtube_swarm_fast/.venv/lib/python3.11/site-packages/moviepy/video/io/ffmpeg_reader.py:123: UserWarning: Warning: in file https://obj-store.livepeer.cloud/livepeer-cloud-ai-images/8946156c/150e7558.mp4, 1769472 bytes wanted but 0 bytes read,at frame 24/26, at time 4.00/4.17 sec. Using the last valid frame instead.\n",
      "  warnings.warn(\"Warning: in file %s, \"%(self.filename)+\n",
      "\n",
      "/Users/abdullahmarkus/VSProjects/ai_hackathon/swarmzero_ai/youtube_swarm_fast/.venv/lib/python3.11/site-packages/moviepy/video/io/ffmpeg_reader.py:123: UserWarning: Warning: in file https://obj-store.livepeer.cloud/livepeer-cloud-ai-images/8946156c/150e7558.mp4, 1769472 bytes wanted but 0 bytes read,at frame 24/26, at time 4.00/4.17 sec. Using the last valid frame instead.\n",
      "  warnings.warn(\"Warning: in file %s, \"%(self.filename)+\n",
      "\n",
      "/Users/abdullahmarkus/VSProjects/ai_hackathon/swarmzero_ai/youtube_swarm_fast/.venv/lib/python3.11/site-packages/moviepy/video/io/ffmpeg_reader.py:123: UserWarning: Warning: in file https://obj-store.livepeer.cloud/livepeer-cloud-ai-images/8946156c/150e7558.mp4, 1769472 bytes wanted but 0 bytes read,at frame 24/26, at time 4.00/4.17 sec. Using the last valid frame instead.\n",
      "  warnings.warn(\"Warning: in file %s, \"%(self.filename)+\n",
      "\n",
      "/Users/abdullahmarkus/VSProjects/ai_hackathon/swarmzero_ai/youtube_swarm_fast/.venv/lib/python3.11/site-packages/moviepy/video/io/ffmpeg_reader.py:123: UserWarning: Warning: in file https://obj-store.livepeer.cloud/livepeer-cloud-ai-images/8946156c/150e7558.mp4, 1769472 bytes wanted but 0 bytes read,at frame 24/26, at time 4.00/4.17 sec. Using the last valid frame instead.\n",
      "  warnings.warn(\"Warning: in file %s, \"%(self.filename)+\n",
      "\n"
     ]
    },
    {
     "name": "stderr",
     "output_type": "stream",
     "text": [
      "                                                              \r"
     ]
    },
    {
     "name": "stdout",
     "output_type": "stream",
     "text": [
      "Moviepy - Done !\n",
      "Moviepy - video ready switzerland.mp4\n"
     ]
    },
    {
     "data": {
      "text/plain": [
       "'switzerland.mp4'"
      ]
     },
     "execution_count": 3,
     "metadata": {},
     "output_type": "execute_result"
    }
   ],
   "source": [
    "video_editor(clips, output_filename=\"switzerland.mp4\", transition_type=\"slide\")"
   ]
  }
 ],
 "metadata": {
  "kernelspec": {
   "display_name": ".venv",
   "language": "python",
   "name": "python3"
  },
  "language_info": {
   "codemirror_mode": {
    "name": "ipython",
    "version": 3
   },
   "file_extension": ".py",
   "mimetype": "text/x-python",
   "name": "python",
   "nbconvert_exporter": "python",
   "pygments_lexer": "ipython3",
   "version": "3.11.9"
  }
 },
 "nbformat": 4,
 "nbformat_minor": 2
}
